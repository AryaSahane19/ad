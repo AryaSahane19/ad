{
 "cells": [
  {
   "cell_type": "code",
   "execution_count": 1,
   "id": "78ffd302",
   "metadata": {},
   "outputs": [
    {
     "name": "stdout",
     "output_type": "stream",
     "text": [
      "Mean Absolute Error (MAE): 42.79\n",
      "Root Mean Square Error (RMSE): 53.85\n",
      "Mean Absolute Percentage Error (MAPE): 0.37\n",
      "Mean Absolute Scaled Error (MASE): 0.53\n"
     ]
    }
   ],
   "source": [
    "from sklearn.datasets import load_diabetes\n",
    "from sklearn.model_selection import train_test_split\n",
    "from sklearn.linear_model import LinearRegression\n",
    "from sklearn.metrics import mean_absolute_error, mean_squared_error, mean_absolute_percentage_error\n",
    "diabetes = load_diabetes()\n",
    "X = diabetes.data\n",
    "y = diabetes.target\n",
    "X_train, X_test, y_train, y_test = train_test_split(X, y, test_size=0.2, random_state=42)\n",
    "model = LinearRegression()\n",
    "model.fit(X_train, y_train)\n",
    "y_pred = model.predict(X_test)\n",
    "mae = mean_absolute_error(y_test, y_pred)\n",
    "rmse = mean_squared_error(y_test, y_pred, squared=False)\n",
    "mape = mean_absolute_percentage_error(y_test, y_pred)\n",
    "mase = mae / (sum(abs(y_test[i + 1] - y_test[i]) for i in range(len(y_test) - 1)) / (len(y_test) - 1))\n",
    "print(f\"Mean Absolute Error (MAE): {mae:.2f}\")\n",
    "print(f\"Root Mean Square Error (RMSE): {rmse:.2f}\")\n",
    "print(f\"Mean Absolute Percentage Error (MAPE): {mape:.2f}\")\n",
    "print(f\"Mean Absolute Scaled Error (MASE): {mase:.2f}\")\n"
   ]
  },
  {
   "cell_type": "code",
   "execution_count": null,
   "id": "1785e5d5",
   "metadata": {},
   "outputs": [],
   "source": []
  },
  {
   "cell_type": "code",
   "execution_count": 4,
   "id": "ddc68d7b",
   "metadata": {},
   "outputs": [
    {
     "name": "stdout",
     "output_type": "stream",
     "text": [
      "Regression Metrics:\n",
      "Mean Absolute Error (MAE): 0.2871998794781651\n",
      "Root Mean Square Error (RMSE): 0.37365620094652546\n",
      "Mean Absolute Percentage Error (MAPE): 9.618856056620494\n",
      "Mean Absolute Scaled Error (MASE): 0.838469663385881\n"
     ]
    }
   ],
   "source": [
    "import numpy as np \n",
    "import pandas as pd\n",
    "from sklearn.datasets import load_iris\n",
    "from sklearn.model_selection import train_test_split \n",
    "from sklearn.linear_model import LinearRegression\n",
    "from sklearn.metrics import mean_absolute_error, mean_squared_error \n",
    "from sklearn.metrics import confusion_matrix \n",
    "import matplotlib.pyplot as plt\n",
    "import seaborn as sns \n",
    "\n",
    "# Load Iris dataset\n",
    "iris = load_iris()\n",
    "data = pd.DataFrame(data=np.c_[iris['data'], iris['target']], columns=iris['feature_names'] + ['target'])\n",
    "\n",
    "# Regression on sepal length (cm)\n",
    "X_reg = data[['sepal length (cm)']]\n",
    "y_reg = data['sepal width (cm)']\n",
    "\n",
    "# Split the data for regression\n",
    "X_train_reg, X_test_reg, y_train_reg, y_test_reg = train_test_split(X_reg, y_reg, test_size=0.2, random_state=42)\n",
    "\n",
    "# Train a simple linear regression model \n",
    "reg_model = LinearRegression()\n",
    "reg_model.fit(X_train_reg, y_train_reg)\n",
    "\n",
    "# Make predictions for regression\n",
    "y_pred_reg = reg_model.predict(X_test_reg)\n",
    "\n",
    "# Regression Metrics\n",
    "mae_reg = mean_absolute_error(y_test_reg, y_pred_reg)\n",
    "rmse_reg = np.sqrt(mean_squared_error(y_test_reg, y_pred_reg))\n",
    "\n",
    "# Calculate MAE for the training set to be used as a benchmark for MASE\n",
    "mae_benchmark_reg = mean_absolute_error(y_train_reg, reg_model.predict(X_train_reg))\n",
    "\n",
    "# Calculate MASE for regression\n",
    "mase_reg = mae_reg / mae_benchmark_reg\n",
    "\n",
    "# Calculate MAPE for regression\n",
    "mape_reg = np.mean(np.abs((y_test_reg - y_pred_reg) / (y_test_reg + 1e-10))) * 100\n",
    "\n",
    "print(\"Regression Metrics:\")\n",
    "print(\"Mean Absolute Error (MAE):\", mae_reg)\n",
    "print(\"Root Mean Square Error (RMSE):\", rmse_reg)\n",
    "print(\"Mean Absolute Percentage Error (MAPE):\", mape_reg)\n",
    "print(\"Mean Absolute Scaled Error (MASE):\", mase_reg)"
   ]
  }
 ],
 "metadata": {
  "kernelspec": {
   "display_name": "Python 3 (ipykernel)",
   "language": "python",
   "name": "python3"
  },
  "language_info": {
   "codemirror_mode": {
    "name": "ipython",
    "version": 3
   },
   "file_extension": ".py",
   "mimetype": "text/x-python",
   "name": "python",
   "nbconvert_exporter": "python",
   "pygments_lexer": "ipython3",
   "version": "3.9.13"
  }
 },
 "nbformat": 4,
 "nbformat_minor": 5
}
